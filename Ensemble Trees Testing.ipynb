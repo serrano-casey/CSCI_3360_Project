{
 "cells": [
  {
   "cell_type": "code",
   "execution_count": 1,
   "metadata": {},
   "outputs": [],
   "source": [
    "import pandas as pd\n",
    "import numpy as np\n",
    "import sklearn\n",
    "from sklearn.model_selection import train_test_split\n",
    "from sklearn.ensemble import ExtraTreesClassifier\n",
    "from sklearn.datasets import make_classification\n"
   ]
  },
  {
   "cell_type": "code",
   "execution_count": 2,
   "metadata": {},
   "outputs": [],
   "source": [
    "def returner(df):\n",
    "    return(df)"
   ]
  },
  {
   "cell_type": "code",
   "execution_count": 10,
   "metadata": {},
   "outputs": [],
   "source": [
    "spotData = pd.read_csv(\"spotData3.csv\")\n",
    "spotData4 = pd.read_csv(\"spotData4.csv\")"
   ]
  },
  {
   "cell_type": "code",
   "execution_count": 11,
   "metadata": {},
   "outputs": [
    {
     "name": "stdout",
     "output_type": "stream",
     "text": [
      "Test Accuracy: 60.7500\n"
     ]
    }
   ],
   "source": [
    "##lets try extra ensemble trees\n",
    "x_train, x_test, y_train, y_test = train_test_split(spotData[[\"danceability\",\"energy\",\"key\",\"loudness\",\"mode\",\"speechiness\",\"acousticness\",\"instrumentalness\", \"liveness\", \"valence\",\"tempo\"]], spotData[\"mood\"], test_size=.25, random_state=0)\n",
    "\n",
    "extraTreesModel = ExtraTreesClassifier(n_estimators = 100)\n",
    "extraTreesClassified = extraTreesModel.fit(x_train, y_train)\n",
    "predictions = extraTreesModel.predict(x_test)\n",
    "\n",
    "Accuracy = extraTreesModel.score(x_test, y_test)\n",
    "print(\"Test Accuracy: {:.4f}\".format(Accuracy*100))"
   ]
  },
  {
   "cell_type": "code",
   "execution_count": 14,
   "metadata": {},
   "outputs": [
    {
     "name": "stdout",
     "output_type": "stream",
     "text": [
      "Test Accuracy: 58.5000\n"
     ]
    }
   ],
   "source": [
    "##spot data 4\n",
    "x_train, x_test, y_train, y_test = train_test_split(spotData4[[\"danceability\",\"energy\",\"key\",\"loudness\",\"mode\",\"speechiness\",\"acousticness\",\"instrumentalness\", \"liveness\", \"valence\",\"tempo\"]], spotData4[\"mood\"], test_size=.25, random_state=0)\n",
    "\n",
    "extraTreesModel = ExtraTreesClassifier(n_estimators = 100)\n",
    "extraTreesClassified = extraTreesModel.fit(x_train, y_train)\n",
    "predictions = extraTreesModel.predict(x_test)\n",
    "\n",
    "Accuracy = extraTreesModel.score(x_test, y_test)\n",
    "print(\"Test Accuracy: {:.4f}\".format(Accuracy*100))"
   ]
  },
  {
   "cell_type": "code",
   "execution_count": null,
   "metadata": {},
   "outputs": [],
   "source": []
  }
 ],
 "metadata": {
  "kernelspec": {
   "display_name": "Python 3",
   "language": "python",
   "name": "python3"
  },
  "language_info": {
   "codemirror_mode": {
    "name": "ipython",
    "version": 3
   },
   "file_extension": ".py",
   "mimetype": "text/x-python",
   "name": "python",
   "nbconvert_exporter": "python",
   "pygments_lexer": "ipython3",
   "version": "3.7.3"
  }
 },
 "nbformat": 4,
 "nbformat_minor": 2
}
