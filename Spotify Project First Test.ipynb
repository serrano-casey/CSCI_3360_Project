{
 "cells": [
  {
   "cell_type": "code",
   "execution_count": 1,
   "metadata": {},
   "outputs": [],
   "source": [
    "import pandas as pd\n",
    "import numpy as np\n",
    "import spotipy\n",
    "from spotipy.oauth2 import SpotifyOAuth\n",
    "from spotipy.oauth2 import SpotifyClientCredentials"
   ]
  },
  {
   "cell_type": "code",
   "execution_count": 2,
   "metadata": {},
   "outputs": [],
   "source": [
    "##Client Authorization\n",
    "\n",
    "cid = \"26e46f3a7818494286f6349bd492484d\"\n",
    "secret = \"f96866fd97af42b38349b865821e631f\"\n",
    "ruri = \"http://localhost:64664/callback\"\n",
    "\n",
    "scope = \"user-library-read\"\n",
    "\n",
    "client_credentials_manager = SpotifyClientCredentials(client_id=cid, client_secret = secret)\n",
    "sp = spotipy.Spotify(auth_manager=SpotifyOAuth(scope=scope, client_id = cid, client_secret = secret, redirect_uri = ruri))"
   ]
  },
  {
   "cell_type": "code",
   "execution_count": 3,
   "metadata": {},
   "outputs": [],
   "source": [
    "## creating the master dataframe\n",
    "tracks = pd.DataFrame(columns = [\"track\", \"uri\", \"mood\", \"danceability\", \"energy\", \"key\",\"loudness\", \"mode\", \"speechiness\", \"acousticness\", \"instrumentalness\", \"liveness\", \"valence\", \"tempo\"], index = None)"
   ]
  },
  {
   "cell_type": "code",
   "execution_count": 4,
   "metadata": {},
   "outputs": [],
   "source": [
    "##pulling a playlist\n",
    "moodBooster = sp.playlist_tracks(\"spotify:playlist:37i9dQZF1DX3rxVfibe1L0\")"
   ]
  },
  {
   "cell_type": "code",
   "execution_count": 5,
   "metadata": {},
   "outputs": [],
   "source": [
    "##adding items from moodbooster\n",
    "i = 0\n",
    "while i< len(moodBooster[\"items\"]):\n",
    "    tracks = tracks.append({\"track\": moodBooster[\"items\"][i][\"track\"][\"name\"], \"uri\": moodBooster[\"items\"][i][\"track\"][\"uri\"], \"mood\": \"happy\"}, ignore_index = True)\n",
    "    i = i+1"
   ]
  },
  {
   "cell_type": "code",
   "execution_count": 6,
   "metadata": {},
   "outputs": [
    {
     "name": "stdout",
     "output_type": "stream",
     "text": [
      "0.00137 0.00137\n",
      "0.000387 0.000387\n",
      "0 0\n",
      "0 0\n",
      "0 0\n",
      "0 0\n",
      "0 0\n",
      "0.00101 0.00101\n",
      "7.16e-06 7.16e-06\n",
      "0 0\n",
      "0.00077 0.00077\n",
      "7e-06 7e-06\n",
      "0 0\n",
      "7.39e-06 7.39e-06\n",
      "0.000922 0.000922\n",
      "0.149 0.149\n",
      "7.49e-06 7.49e-06\n",
      "0 0\n",
      "0 0\n",
      "0 0\n",
      "2.08e-05 2.08e-05\n",
      "3.13e-06 3.13e-06\n",
      "0 0\n",
      "0 0\n",
      "0 0\n",
      "0 0\n",
      "0 0\n",
      "0 0\n",
      "0 0\n",
      "3.04e-05 3.04e-05\n",
      "0 0\n",
      "0 0\n",
      "0 0\n",
      "0 0\n",
      "0 0\n",
      "0 0\n",
      "0.02 0.02\n",
      "0 0\n",
      "0 0\n",
      "0 0\n",
      "0 0\n",
      "1.03e-06 1.03e-06\n",
      "1.24e-05 1.24e-05\n",
      "2.58e-05 2.58e-05\n",
      "0 0\n",
      "0.0806 0.0806\n",
      "0 0\n",
      "0.00144 0.00144\n",
      "0 0\n",
      "0 0\n",
      "0 0\n",
      "0 0\n",
      "0 0\n",
      "0 0\n",
      "0 0\n",
      "0.00342 0.00342\n",
      "0 0\n",
      "0 0\n",
      "0 0\n",
      "0 0\n",
      "0 0\n",
      "0.00252 0.00252\n",
      "0 0\n",
      "0 0\n",
      "1.97e-06 1.97e-06\n",
      "0 0\n",
      "0 0\n",
      "9.54e-05 9.54e-05\n",
      "6.05e-06 6.05e-06\n",
      "0.000937 0.000937\n",
      "0.00188 0.00188\n",
      "1.14e-05 1.14e-05\n",
      "0.0237 0.0237\n",
      "0.000132 0.000132\n",
      "0.0192 0.0192\n"
     ]
    }
   ],
   "source": [
    "##adding song features\n",
    "for index, row in tracks.iterrows():\n",
    "    features = sp.audio_features(row[1])\n",
    "    row[3] = features[0][\"danceability\"]\n",
    "    row[4] = features[0][\"energy\"]\n",
    "    row[5] = features[0][\"key\"]\n",
    "    row[6] = features[0][\"loudness\"]\n",
    "    row[7] = features[0][\"mode\"]\n",
    "    row[8] = features[0][\"speechiness\"]\n",
    "    row[9] = features[0][\"acousticness\"]\n",
    "    row[10] = features[0][\"instrumentalness\"]\n",
    "    row[11] = features[0][\"liveness\"]\n",
    "    row[12] = features[0][\"valence\"]\n",
    "    row[13] = features[0][\"tempo\"]\n",
    "    print(features[0][\"instrumentalness\"], row[10])\n",
    "  "
   ]
  }
 ],
 "metadata": {
  "kernelspec": {
   "display_name": "Python 3",
   "language": "python",
   "name": "python3"
  },
  "language_info": {
   "codemirror_mode": {
    "name": "ipython",
    "version": 3
   },
   "file_extension": ".py",
   "mimetype": "text/x-python",
   "name": "python",
   "nbconvert_exporter": "python",
   "pygments_lexer": "ipython3",
   "version": "3.7.3"
  }
 },
 "nbformat": 4,
 "nbformat_minor": 2
}
