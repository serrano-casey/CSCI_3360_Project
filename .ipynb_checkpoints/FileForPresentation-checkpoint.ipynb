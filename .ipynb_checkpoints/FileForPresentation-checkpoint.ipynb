{
 "cells": [
  {
   "cell_type": "code",
   "execution_count": 84,
   "metadata": {},
   "outputs": [],
   "source": [
    "import sklearn\n",
    "import numpy as np\n",
    "import pandas as pd\n",
    "from sklearn.model_selection import train_test_split\n",
    "from sklearn.tree import DecisionTreeClassifier\n",
    "from sklearn.ensemble import ExtraTreesClassifier\n",
    "from sklearn.datasets import make_classification\n",
    "from sklearn.neighbors import KNeighborsClassifier\n",
    "from sklearn.neural_network import MLPClassifier\n",
    "from sklearn.model_selection import cross_val_score\n",
    "from sklearn.manifold import TSNE\n",
    "import matplotlib as matplot\n",
    "import matplotlib.pyplot as plt"
   ]
  },
  {
   "cell_type": "code",
   "execution_count": 103,
   "metadata": {},
   "outputs": [],
   "source": [
    "def returner(df):\n",
    "    return(df)"
   ]
  },
  {
   "cell_type": "code",
   "execution_count": 80,
   "metadata": {},
   "outputs": [],
   "source": [
    "spotDataMultiMood = pd.read_csv(\"spotData8.csv\")\n",
    "spotDataSingleMood = pd.read_json(\"spotData5.json\") \n",
    "testing = pd.read_json(\"testing.json\")"
   ]
  },
  {
   "cell_type": "code",
   "execution_count": 109,
   "metadata": {},
   "outputs": [],
   "source": [
    "##convery spotDataSingleMood playlists from strings to categorical integers\n",
    "a = {}\n",
    "counter = 1\n",
    "for i in set(spotDataSingleMood[\"playlist\"]):\n",
    "    a[i] = counter\n",
    "    counter+=1\n",
    "    \n",
    "floating = []\n",
    "for row in spotDataSingleMood[\"playlist\"]:\n",
    "    floating.append(a[row])\n",
    "    \n",
    "spotDataSingleMood[\"playlist\"] = floating"
   ]
  },
  {
   "cell_type": "markdown",
   "metadata": {},
   "source": [
    "# No playlist titles, Single Mood playlists"
   ]
  },
  {
   "cell_type": "code",
   "execution_count": 100,
   "metadata": {},
   "outputs": [],
   "source": [
    "##NO DIMENSIONALITY REDUCTION##\n",
    "##Decision Trees\n",
    "X = spotDataSingleMood[[\"danceability\",\"energy\",\"key\",\"loudness\",\"mode\",\"speechiness\",\"acousticness\",\"instrumentalness\",\"valence\",\"tempo\"]]\n",
    "Y = spotDataSingleMood[\"mood\"]\n",
    "\n",
    "extraTreesModel = ExtraTreesClassifier(n_estimators = 100)\n",
    "extraTreesModel.fit(X, Y)\n",
    "accuracyArrTree = cross_val_score(extraTreesModel, X, Y, cv = 5)\n",
    "outsideAccuracyTree = extraTreesModel.score(testing[[\"danceability\",\"energy\",\"key\",\"loudness\",\"mode\",\"speechiness\",\"acousticness\",\"instrumentalness\",\"valence\",\"tempo\"]], testing[\"mood\"])\n",
    "\n",
    "##kneighbors\n",
    "knnModel = KNeighborsClassifier()\n",
    "knnModel.fit(X,Y)\n",
    "accuracyArrKnn = cross_val_score(knnModel, X, Y, cv = 5)\n",
    "outsideAccuracyKnn = knnModel.score(testing[[\"danceability\",\"energy\",\"key\",\"loudness\",\"mode\",\"speechiness\",\"acousticness\",\"instrumentalness\",\"valence\",\"tempo\"]], testing[\"mood\"])\n",
    "\n",
    "##Neural Network\n",
    "neuralNetworkModel = MLPClassifier(max_iter = 300)\n",
    "neuralNetworkModel.fit(X,Y)\n",
    "accuracyArrNN = cross_val_score(neuralNetworkModel, X, Y, cv =5)\n",
    "outsideAccuracyNN = neuralNetworkModel.score(testing[[\"danceability\",\"energy\",\"key\",\"loudness\",\"mode\",\"speechiness\",\"acousticness\",\"instrumentalness\",\"valence\",\"tempo\"]], testing[\"mood\"])\n"
   ]
  },
  {
   "cell_type": "code",
   "execution_count": 88,
   "metadata": {},
   "outputs": [],
   "source": [
    "##REDUCED TO 2 DIMENSIONS##\n",
    "spotDSMReduced = TSNE(n_components=2).fit_transform(spotDataSingleMood[[\"danceability\",\"energy\",\"key\",\"loudness\",\"mode\",\"speechiness\",\"acousticness\",\"instrumentalness\",\"valence\",\"tempo\"]])\n",
    "testingReduced = TSNE(n_components=2).fit_transform(testing[[\"danceability\",\"energy\",\"key\",\"loudness\",\"mode\",\"speechiness\",\"acousticness\",\"instrumentalness\",\"valence\",\"tempo\"]])\n"
   ]
  },
  {
   "cell_type": "code",
   "execution_count": 101,
   "metadata": {},
   "outputs": [],
   "source": [
    "XRed = spotDSMReduced\n",
    "Y = spotDataSingleMood[\"mood\"]\n",
    "\n",
    "#Decision Trees\n",
    "extraTreesModelR = ExtraTreesClassifier(n_estimators = 100)\n",
    "extraTreesModelR.fit(XRed, Y)\n",
    "accuracyArrTreeR = cross_val_score(extraTreesModelR, XRed, Y, cv = 5)\n",
    "outsideAccuracyTreeR = extraTreesModelR.score(testingReduced, testing[\"mood\"])\n",
    "\n",
    "##kneighbors\n",
    "knnModelR = KNeighborsClassifier()\n",
    "knnModelR.fit(XRed,Y)\n",
    "accuracyArrKnnR = cross_val_score(knnModelR, XRed, Y, cv = 5)\n",
    "outsideAccuracyKnnR = knnModelR.score(testingReduced, testing[\"mood\"])\n",
    "\n",
    "##Neural Network\n",
    "neuralNetworkModelR = MLPClassifier(max_iter = 300)\n",
    "neuralNetworkModelR.fit(XRed,Y)\n",
    "accuracyArrNNR = cross_val_score(neuralNetworkModelR, XRed, Y, cv =5)\n",
    "outsideAccuracyNNR = neuralNetworkModelR.score(testingReduced, testing[\"mood\"])\n"
   ]
  },
  {
   "cell_type": "code",
   "execution_count": 105,
   "metadata": {},
   "outputs": [],
   "source": [
    "results1 = pd.DataFrame({\"Label\": [\"4 Fold Cross Validation\", \"Outside Testing\", \"Reduced 4-Fold CV\", \"Reduced Outside Testing\"], \n",
    "                         \"Ensemble Decision Tree\": [np.average(accuracyArrTree)*100, (outsideAccuracyTree*100), np.average(accuracyArrTreeR), outsideAccuracyTreeR*100],\n",
    "                         \"KNNeighbors\": [np.average(accuracyArrKnn)*100, outsideAccuracyKnn*100, np.average(accuracyArrKnnR), outsideAccuracyKnnR*100],\n",
    "                         \"Neural Network\": [np.average(accuracyArrNN)*100, outsideAccuracyNN*100, np.average(accuracyArrNNR)*100, outsideAccuracyNNR*100]})\n",
    "\n"
   ]
  },
  {
   "cell_type": "markdown",
   "metadata": {},
   "source": [
    "## Results for No Playlist Titles, Single Mood Playlists"
   ]
  },
  {
   "cell_type": "code",
   "execution_count": 106,
   "metadata": {},
   "outputs": [
    {
     "data": {
      "text/html": [
       "<div>\n",
       "<style scoped>\n",
       "    .dataframe tbody tr th:only-of-type {\n",
       "        vertical-align: middle;\n",
       "    }\n",
       "\n",
       "    .dataframe tbody tr th {\n",
       "        vertical-align: top;\n",
       "    }\n",
       "\n",
       "    .dataframe thead th {\n",
       "        text-align: right;\n",
       "    }\n",
       "</style>\n",
       "<table border=\"1\" class=\"dataframe\">\n",
       "  <thead>\n",
       "    <tr style=\"text-align: right;\">\n",
       "      <th></th>\n",
       "      <th>Label</th>\n",
       "      <th>Ensemble Decision Tree</th>\n",
       "      <th>KNNeighbors</th>\n",
       "      <th>Neural Network</th>\n",
       "    </tr>\n",
       "  </thead>\n",
       "  <tbody>\n",
       "    <tr>\n",
       "      <th>0</th>\n",
       "      <td>4 Fold Cross Validation</td>\n",
       "      <td>56.182598</td>\n",
       "      <td>34.955659</td>\n",
       "      <td>53.902622</td>\n",
       "    </tr>\n",
       "    <tr>\n",
       "      <th>1</th>\n",
       "      <td>Outside Testing</td>\n",
       "      <td>12.500000</td>\n",
       "      <td>12.500000</td>\n",
       "      <td>25.000000</td>\n",
       "    </tr>\n",
       "    <tr>\n",
       "      <th>2</th>\n",
       "      <td>Reduced 4-Fold CV</td>\n",
       "      <td>0.343435</td>\n",
       "      <td>0.342562</td>\n",
       "      <td>32.252082</td>\n",
       "    </tr>\n",
       "    <tr>\n",
       "      <th>3</th>\n",
       "      <td>Reduced Outside Testing</td>\n",
       "      <td>12.500000</td>\n",
       "      <td>25.000000</td>\n",
       "      <td>25.000000</td>\n",
       "    </tr>\n",
       "  </tbody>\n",
       "</table>\n",
       "</div>"
      ],
      "text/plain": [
       "                     Label  Ensemble Decision Tree  KNNeighbors  \\\n",
       "0  4 Fold Cross Validation               56.182598    34.955659   \n",
       "1          Outside Testing               12.500000    12.500000   \n",
       "2        Reduced 4-Fold CV                0.343435     0.342562   \n",
       "3  Reduced Outside Testing               12.500000    25.000000   \n",
       "\n",
       "   Neural Network  \n",
       "0       53.902622  \n",
       "1       25.000000  \n",
       "2       32.252082  \n",
       "3       25.000000  "
      ]
     },
     "execution_count": 106,
     "metadata": {},
     "output_type": "execute_result"
    }
   ],
   "source": [
    "returner(results1)"
   ]
  },
  {
   "cell_type": "code",
   "execution_count": null,
   "metadata": {},
   "outputs": [],
   "source": []
  },
  {
   "cell_type": "markdown",
   "metadata": {},
   "source": [
    "# Playlist Titles, Single Mood Playlists"
   ]
  },
  {
   "cell_type": "code",
   "execution_count": 113,
   "metadata": {},
   "outputs": [],
   "source": [
    "##NO DIMENSIONALITY REDUCTION##\n",
    "##Decision Trees\n",
    "X = spotDataSingleMood[[\"playlist\", \"danceability\",\"energy\",\"key\",\"loudness\",\"mode\",\"speechiness\",\"acousticness\",\"instrumentalness\",\"valence\",\"tempo\"]]\n",
    "Y = spotDataSingleMood[\"mood\"]\n",
    "\n",
    "extraTreesModel = ExtraTreesClassifier(n_estimators = 100)\n",
    "extraTreesModel.fit(X, Y)\n",
    "accuracyArrTree = cross_val_score(extraTreesModel, X, Y, cv = 5)\n",
    "outsideAccuracyTree = extraTreesModel.score(testing[[\"playlist\", \"danceability\",\"energy\",\"key\",\"loudness\",\"mode\",\"speechiness\",\"acousticness\",\"instrumentalness\",\"valence\",\"tempo\"]], testing[\"mood\"])\n",
    "\n",
    "##kneighbors\n",
    "knnModel = KNeighborsClassifier()\n",
    "knnModel.fit(X,Y)\n",
    "accuracyArrKnn = cross_val_score(knnModel, X, Y, cv = 5)\n",
    "outsideAccuracyKnn = knnModel.score(testing[[\"playlist\", \"danceability\",\"energy\",\"key\",\"loudness\",\"mode\",\"speechiness\",\"acousticness\",\"instrumentalness\",\"valence\",\"tempo\"]], testing[\"mood\"])\n",
    "\n",
    "##Neural Network\n",
    "neuralNetworkModel = MLPClassifier(max_iter = 500)\n",
    "neuralNetworkModel.fit(X,Y)\n",
    "accuracyArrNN = cross_val_score(neuralNetworkModel, X, Y, cv =5)\n",
    "outsideAccuracyNN = neuralNetworkModel.score(testing[[\"playlist\", \"danceability\",\"energy\",\"key\",\"loudness\",\"mode\",\"speechiness\",\"acousticness\",\"instrumentalness\",\"valence\",\"tempo\"]], testing[\"mood\"])\n"
   ]
  },
  {
   "cell_type": "code",
   "execution_count": 114,
   "metadata": {},
   "outputs": [],
   "source": [
    "##REDUCED TO 2 DIMENSIONS##\n",
    "spotDSMReduced = TSNE(n_components=2).fit_transform(spotDataSingleMood[[\"playlist\", \"danceability\",\"energy\",\"key\",\"loudness\",\"mode\",\"speechiness\",\"acousticness\",\"instrumentalness\",\"valence\",\"tempo\"]])\n",
    "testingReduced = TSNE(n_components=2).fit_transform(testing[[\"playlist\", \"danceability\",\"energy\",\"key\",\"loudness\",\"mode\",\"speechiness\",\"acousticness\",\"instrumentalness\",\"valence\",\"tempo\"]])\n"
   ]
  },
  {
   "cell_type": "code",
   "execution_count": 115,
   "metadata": {},
   "outputs": [],
   "source": [
    "XRed = spotDSMReduced\n",
    "Y = spotDataSingleMood[\"mood\"]\n",
    "\n",
    "#Decision Trees\n",
    "extraTreesModelR = ExtraTreesClassifier(n_estimators = 100)\n",
    "extraTreesModelR.fit(XRed, Y)\n",
    "accuracyArrTreeR = cross_val_score(extraTreesModelR, XRed, Y, cv = 5)\n",
    "outsideAccuracyTreeR = extraTreesModelR.score(testingReduced, testing[\"mood\"])\n",
    "\n",
    "##kneighbors\n",
    "knnModelR = KNeighborsClassifier()\n",
    "knnModelR.fit(XRed,Y)\n",
    "accuracyArrKnnR = cross_val_score(knnModelR, XRed, Y, cv = 5)\n",
    "outsideAccuracyKnnR = knnModelR.score(testingReduced, testing[\"mood\"])\n",
    "\n",
    "##Neural Network\n",
    "neuralNetworkModelR = MLPClassifier(max_iter = 300)\n",
    "neuralNetworkModelR.fit(XRed,Y)\n",
    "accuracyArrNNR = cross_val_score(neuralNetworkModelR, XRed, Y, cv =5)\n",
    "outsideAccuracyNNR = neuralNetworkModelR.score(testingReduced, testing[\"mood\"])\n"
   ]
  },
  {
   "cell_type": "code",
   "execution_count": 116,
   "metadata": {},
   "outputs": [],
   "source": [
    "results2 = pd.DataFrame({\"Label\": [\"4 Fold Cross Validation\", \"Outside Testing\", \"Reduced 4-Fold CV\", \"Reduced Outside Testing\"], \n",
    "                         \"Ensemble Decision Tree\": [np.average(accuracyArrTree)*100, (outsideAccuracyTree*100), np.average(accuracyArrTreeR), outsideAccuracyTreeR*100],\n",
    "                         \"KNNeighbors\": [np.average(accuracyArrKnn)*100, outsideAccuracyKnn*100, np.average(accuracyArrKnnR), outsideAccuracyKnnR*100],\n",
    "                         \"Neural Network\": [np.average(accuracyArrNN)*100, outsideAccuracyNN*100, np.average(accuracyArrNNR)*100, outsideAccuracyNNR*100]})\n",
    "\n"
   ]
  },
  {
   "cell_type": "markdown",
   "metadata": {},
   "source": [
    "## Results for Playlist Titles Single Mood Playlists"
   ]
  },
  {
   "cell_type": "code",
   "execution_count": 117,
   "metadata": {},
   "outputs": [
    {
     "data": {
      "text/html": [
       "<div>\n",
       "<style scoped>\n",
       "    .dataframe tbody tr th:only-of-type {\n",
       "        vertical-align: middle;\n",
       "    }\n",
       "\n",
       "    .dataframe tbody tr th {\n",
       "        vertical-align: top;\n",
       "    }\n",
       "\n",
       "    .dataframe thead th {\n",
       "        text-align: right;\n",
       "    }\n",
       "</style>\n",
       "<table border=\"1\" class=\"dataframe\">\n",
       "  <thead>\n",
       "    <tr style=\"text-align: right;\">\n",
       "      <th></th>\n",
       "      <th>Label</th>\n",
       "      <th>Ensemble Decision Tree</th>\n",
       "      <th>KNNeighbors</th>\n",
       "      <th>Neural Network</th>\n",
       "    </tr>\n",
       "  </thead>\n",
       "  <tbody>\n",
       "    <tr>\n",
       "      <th>0</th>\n",
       "      <td>4 Fold Cross Validation</td>\n",
       "      <td>94.218110</td>\n",
       "      <td>44.788104</td>\n",
       "      <td>71.162495</td>\n",
       "    </tr>\n",
       "    <tr>\n",
       "      <th>1</th>\n",
       "      <td>Outside Testing</td>\n",
       "      <td>25.000000</td>\n",
       "      <td>25.000000</td>\n",
       "      <td>25.000000</td>\n",
       "    </tr>\n",
       "    <tr>\n",
       "      <th>2</th>\n",
       "      <td>Reduced 4-Fold CV</td>\n",
       "      <td>0.459181</td>\n",
       "      <td>0.430437</td>\n",
       "      <td>33.214320</td>\n",
       "    </tr>\n",
       "    <tr>\n",
       "      <th>3</th>\n",
       "      <td>Reduced Outside Testing</td>\n",
       "      <td>37.500000</td>\n",
       "      <td>37.500000</td>\n",
       "      <td>25.000000</td>\n",
       "    </tr>\n",
       "  </tbody>\n",
       "</table>\n",
       "</div>"
      ],
      "text/plain": [
       "                     Label  Ensemble Decision Tree  KNNeighbors  \\\n",
       "0  4 Fold Cross Validation               94.218110    44.788104   \n",
       "1          Outside Testing               25.000000    25.000000   \n",
       "2        Reduced 4-Fold CV                0.459181     0.430437   \n",
       "3  Reduced Outside Testing               37.500000    37.500000   \n",
       "\n",
       "   Neural Network  \n",
       "0       71.162495  \n",
       "1       25.000000  \n",
       "2       33.214320  \n",
       "3       25.000000  "
      ]
     },
     "execution_count": 117,
     "metadata": {},
     "output_type": "execute_result"
    }
   ],
   "source": [
    "returner(results2)"
   ]
  },
  {
   "cell_type": "code",
   "execution_count": null,
   "metadata": {},
   "outputs": [],
   "source": []
  },
  {
   "cell_type": "markdown",
   "metadata": {},
   "source": [
    "# Playlist Titles and MultiMood Playlists"
   ]
  },
  {
   "cell_type": "code",
   "execution_count": 118,
   "metadata": {},
   "outputs": [],
   "source": [
    "##NO DIMENSIONALITY REDUCTION##\n",
    "##Decision Trees\n",
    "X = spotDataMultiMood[[\"playlist\", \"danceability\",\"energy\",\"key\",\"loudness\",\"mode\",\"speechiness\",\"acousticness\",\"instrumentalness\",\"valence\",\"tempo\"]]\n",
    "Y = spotDataMultiMood[\"mood\"]\n",
    "\n",
    "extraTreesModel = ExtraTreesClassifier(n_estimators = 100)\n",
    "extraTreesModel.fit(X, Y)\n",
    "accuracyArrTree = cross_val_score(extraTreesModel, X, Y, cv = 5)\n",
    "outsideAccuracyTree = extraTreesModel.score(testing[[\"playlist\", \"danceability\",\"energy\",\"key\",\"loudness\",\"mode\",\"speechiness\",\"acousticness\",\"instrumentalness\",\"valence\",\"tempo\"]], testing[\"mood\"])\n",
    "\n",
    "##kneighbors\n",
    "knnModel = KNeighborsClassifier()\n",
    "knnModel.fit(X,Y)\n",
    "accuracyArrKnn = cross_val_score(knnModel, X, Y, cv = 5)\n",
    "outsideAccuracyKnn = knnModel.score(testing[[\"playlist\", \"danceability\",\"energy\",\"key\",\"loudness\",\"mode\",\"speechiness\",\"acousticness\",\"instrumentalness\",\"valence\",\"tempo\"]], testing[\"mood\"])\n",
    "\n",
    "##Neural Network\n",
    "neuralNetworkModel = MLPClassifier(max_iter = 500)\n",
    "neuralNetworkModel.fit(X,Y)\n",
    "accuracyArrNN = cross_val_score(neuralNetworkModel, X, Y, cv =5)\n",
    "outsideAccuracyNN = neuralNetworkModel.score(testing[[\"playlist\", \"danceability\",\"energy\",\"key\",\"loudness\",\"mode\",\"speechiness\",\"acousticness\",\"instrumentalness\",\"valence\",\"tempo\"]], testing[\"mood\"])\n"
   ]
  },
  {
   "cell_type": "code",
   "execution_count": 119,
   "metadata": {},
   "outputs": [],
   "source": [
    "##REDUCED TO 2 DIMENSIONS##\n",
    "spotDSMReduced = TSNE(n_components=2).fit_transform(spotDataMultiMood[[\"playlist\", \"danceability\",\"energy\",\"key\",\"loudness\",\"mode\",\"speechiness\",\"acousticness\",\"instrumentalness\",\"valence\",\"tempo\"]])\n",
    "testingReduced = TSNE(n_components=2).fit_transform(testing[[\"playlist\", \"danceability\",\"energy\",\"key\",\"loudness\",\"mode\",\"speechiness\",\"acousticness\",\"instrumentalness\",\"valence\",\"tempo\"]])\n"
   ]
  },
  {
   "cell_type": "code",
   "execution_count": 120,
   "metadata": {},
   "outputs": [],
   "source": [
    "XRed = spotDSMReduced\n",
    "Y = spotDataMultiMood[\"mood\"]\n",
    "\n",
    "#Decision Trees\n",
    "extraTreesModelR = ExtraTreesClassifier(n_estimators = 100)\n",
    "extraTreesModelR.fit(XRed, Y)\n",
    "accuracyArrTreeR = cross_val_score(extraTreesModelR, XRed, Y, cv = 5)\n",
    "outsideAccuracyTreeR = extraTreesModelR.score(testingReduced, testing[\"mood\"])\n",
    "\n",
    "##kneighbors\n",
    "knnModelR = KNeighborsClassifier()\n",
    "knnModelR.fit(XRed,Y)\n",
    "accuracyArrKnnR = cross_val_score(knnModelR, XRed, Y, cv = 5)\n",
    "outsideAccuracyKnnR = knnModelR.score(testingReduced, testing[\"mood\"])\n",
    "\n",
    "##Neural Network\n",
    "neuralNetworkModelR = MLPClassifier(max_iter = 300)\n",
    "neuralNetworkModelR.fit(XRed,Y)\n",
    "accuracyArrNNR = cross_val_score(neuralNetworkModelR, XRed, Y, cv =5)\n",
    "outsideAccuracyNNR = neuralNetworkModelR.score(testingReduced, testing[\"mood\"])\n"
   ]
  },
  {
   "cell_type": "code",
   "execution_count": 121,
   "metadata": {},
   "outputs": [],
   "source": [
    "results3 = pd.DataFrame({\"Label\": [\"4 Fold Cross Validation\", \"Outside Testing\", \"Reduced 4-Fold CV\", \"Reduced Outside Testing\"], \n",
    "                         \"Ensemble Decision Tree\": [np.average(accuracyArrTree)*100, (outsideAccuracyTree*100), np.average(accuracyArrTreeR), outsideAccuracyTreeR*100],\n",
    "                         \"KNNeighbors\": [np.average(accuracyArrKnn)*100, outsideAccuracyKnn*100, np.average(accuracyArrKnnR), outsideAccuracyKnnR*100],\n",
    "                         \"Neural Network\": [np.average(accuracyArrNN)*100, outsideAccuracyNN*100, np.average(accuracyArrNNR)*100, outsideAccuracyNNR*100]})\n",
    "\n"
   ]
  },
  {
   "cell_type": "markdown",
   "metadata": {},
   "source": [
    "## Results for Playlist Titles with Multi-Mood Playlists"
   ]
  },
  {
   "cell_type": "code",
   "execution_count": 122,
   "metadata": {},
   "outputs": [
    {
     "data": {
      "text/html": [
       "<div>\n",
       "<style scoped>\n",
       "    .dataframe tbody tr th:only-of-type {\n",
       "        vertical-align: middle;\n",
       "    }\n",
       "\n",
       "    .dataframe tbody tr th {\n",
       "        vertical-align: top;\n",
       "    }\n",
       "\n",
       "    .dataframe thead th {\n",
       "        text-align: right;\n",
       "    }\n",
       "</style>\n",
       "<table border=\"1\" class=\"dataframe\">\n",
       "  <thead>\n",
       "    <tr style=\"text-align: right;\">\n",
       "      <th></th>\n",
       "      <th>Label</th>\n",
       "      <th>Ensemble Decision Tree</th>\n",
       "      <th>KNNeighbors</th>\n",
       "      <th>Neural Network</th>\n",
       "    </tr>\n",
       "  </thead>\n",
       "  <tbody>\n",
       "    <tr>\n",
       "      <th>0</th>\n",
       "      <td>4 Fold Cross Validation</td>\n",
       "      <td>94.920647</td>\n",
       "      <td>42.865167</td>\n",
       "      <td>59.896889</td>\n",
       "    </tr>\n",
       "    <tr>\n",
       "      <th>1</th>\n",
       "      <td>Outside Testing</td>\n",
       "      <td>25.000000</td>\n",
       "      <td>12.500000</td>\n",
       "      <td>37.500000</td>\n",
       "    </tr>\n",
       "    <tr>\n",
       "      <th>2</th>\n",
       "      <td>Reduced 4-Fold CV</td>\n",
       "      <td>0.437401</td>\n",
       "      <td>0.414639</td>\n",
       "      <td>37.346055</td>\n",
       "    </tr>\n",
       "    <tr>\n",
       "      <th>3</th>\n",
       "      <td>Reduced Outside Testing</td>\n",
       "      <td>0.000000</td>\n",
       "      <td>25.000000</td>\n",
       "      <td>37.500000</td>\n",
       "    </tr>\n",
       "  </tbody>\n",
       "</table>\n",
       "</div>"
      ],
      "text/plain": [
       "                     Label  Ensemble Decision Tree  KNNeighbors  \\\n",
       "0  4 Fold Cross Validation               94.920647    42.865167   \n",
       "1          Outside Testing               25.000000    12.500000   \n",
       "2        Reduced 4-Fold CV                0.437401     0.414639   \n",
       "3  Reduced Outside Testing                0.000000    25.000000   \n",
       "\n",
       "   Neural Network  \n",
       "0       59.896889  \n",
       "1       37.500000  \n",
       "2       37.346055  \n",
       "3       37.500000  "
      ]
     },
     "execution_count": 122,
     "metadata": {},
     "output_type": "execute_result"
    }
   ],
   "source": [
    "returner(results3)"
   ]
  },
  {
   "cell_type": "code",
   "execution_count": null,
   "metadata": {},
   "outputs": [],
   "source": []
  }
 ],
 "metadata": {
  "kernelspec": {
   "display_name": "Python 3",
   "language": "python",
   "name": "python3"
  },
  "language_info": {
   "codemirror_mode": {
    "name": "ipython",
    "version": 3
   },
   "file_extension": ".py",
   "mimetype": "text/x-python",
   "name": "python",
   "nbconvert_exporter": "python",
   "pygments_lexer": "ipython3",
   "version": "3.7.3"
  }
 },
 "nbformat": 4,
 "nbformat_minor": 2
}
