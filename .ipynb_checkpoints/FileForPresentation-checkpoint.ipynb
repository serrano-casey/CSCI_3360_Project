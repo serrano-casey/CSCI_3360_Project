{
 "cells": [
  {
   "cell_type": "code",
   "execution_count": 2,
   "metadata": {},
   "outputs": [],
   "source": [
    "import sklearn\n",
    "import numpy as np\n",
    "import pandas as pd\n",
    "from sklearn.model_selection import train_test_split\n",
    "from sklearn.tree import DecisionTreeClassifier\n",
    "from sklearn.ensemble import ExtraTreesClassifier\n",
    "from sklearn.datasets import make_classification\n",
    "from sklearn.neighbors import KNeighborsClassifier\n",
    "from sklearn.neural_network import MLPClassifier\n",
    "from sklearn.model_selection import cross_val_score\n",
    "from sklearn.manifold import TSNE\n",
    "import matplotlib as matplot\n",
    "import matplotlib.pyplot as plt\n",
    "from sklearn.discriminant_analysis import LinearDiscriminantAnalysis as LDA"
   ]
  },
  {
   "cell_type": "code",
   "execution_count": 3,
   "metadata": {},
   "outputs": [],
   "source": [
    "def returner(df):\n",
    "    return(df)"
   ]
  },
  {
   "cell_type": "code",
   "execution_count": 6,
   "metadata": {},
   "outputs": [
    {
     "name": "stdout",
     "output_type": "stream",
     "text": [
      "(1331, 16)\n",
      "(1141, 15)\n"
     ]
    }
   ],
   "source": [
    "spotDataMultiMood = pd.read_csv(\"mmPlay.csv\")\n",
    "spotDataSingleMood = pd.read_json(\"spotData5.json\") \n",
    "testing = pd.read_json(\"testing.json\")\n",
    "\n",
    "print(spotDataMultiMood.shape)\n",
    "print(spotDataSingleMood.shape)"
   ]
  },
  {
   "cell_type": "code",
   "execution_count": 9,
   "metadata": {},
   "outputs": [],
   "source": [
    "##convery spotDataSingleMood playlists from strings to categorical integers\n",
    "a = {}\n",
    "counter = 1\n",
    "for i in set(spotDataSingleMood[\"playlist\"]):\n",
    "    a[i] = counter\n",
    "    counter+=1\n",
    "    \n",
    "floating = []\n",
    "for row in spotDataSingleMood[\"playlist\"]:\n",
    "    floating.append(a[row])\n",
    "    \n",
    "spotDataSingleMood[\"playlist\"] = floating"
   ]
  },
  {
   "cell_type": "code",
   "execution_count": 9,
   "metadata": {},
   "outputs": [],
   "source": [
    "a = {}\n",
    "counter = 1\n",
    "for i in set(spotDataMultiMood[\"playlist\"]):\n",
    "    a[i] = counter\n",
    "    counter+=1\n",
    "    \n",
    "floating = []\n",
    "for row in spotDataMultiMood[\"playlist\"]:\n",
    "    floating.append(a[row])\n",
    "    \n",
    "spotDataMultiMood[\"playlist\"] = floating"
   ]
  },
  {
   "cell_type": "markdown",
   "metadata": {},
   "source": [
    "# No playlist titles, Single Mood playlists"
   ]
  },
  {
   "cell_type": "code",
   "execution_count": 40,
   "metadata": {},
   "outputs": [],
   "source": [
    "##NO DIMENSIONALITY REDUCTION##\n",
    "##Decision Trees\n",
    "X = spotDataSingleMood[[\"danceability\",\"energy\",\"key\",\"loudness\",\"mode\",\"speechiness\",\"acousticness\",\"instrumentalness\",\"valence\",\"tempo\"]]\n",
    "Y = spotDataSingleMood[\"mood\"]\n",
    "\n",
    "extraTreesModel = ExtraTreesClassifier(n_estimators = 100)\n",
    "extraTreesModel.fit(X, Y)\n",
    "accuracyArrTree = cross_val_score(extraTreesModel, X, Y, cv = 5)\n",
    "outsideAccuracyTree = extraTreesModel.score(testing[[\"danceability\",\"energy\",\"key\",\"loudness\",\"mode\",\"speechiness\",\"acousticness\",\"instrumentalness\",\"valence\",\"tempo\"]], testing[\"mood\"])\n",
    "\n",
    "##kneighbors\n",
    "knnModel = KNeighborsClassifier()\n",
    "knnModel.fit(X,Y)\n",
    "accuracyArrKnn = cross_val_score(knnModel, X, Y, cv = 5)\n",
    "outsideAccuracyKnn = knnModel.score(testing[[\"danceability\",\"energy\",\"key\",\"loudness\",\"mode\",\"speechiness\",\"acousticness\",\"instrumentalness\",\"valence\",\"tempo\"]], testing[\"mood\"])\n",
    "\n",
    "##Neural Network\n",
    "neuralNetworkModel = MLPClassifier(max_iter = 300)\n",
    "neuralNetworkModel.fit(X,Y)\n",
    "accuracyArrNN = cross_val_score(neuralNetworkModel, X, Y, cv =5)\n",
    "outsideAccuracyNN = neuralNetworkModel.score(testing[[\"danceability\",\"energy\",\"key\",\"loudness\",\"mode\",\"speechiness\",\"acousticness\",\"instrumentalness\",\"valence\",\"tempo\"]], testing[\"mood\"])\n",
    "\n",
    "##LDA\n",
    "LDAModel = LDA()\n",
    "LDAModel.fit(X,Y)\n",
    "accuracyLDA = cross_val_score(LDAModel, X, Y, cv = 5)\n",
    "outsideAccuracyLDA = LDAModel.score(testing[[\"danceability\",\"energy\",\"key\",\"loudness\",\"mode\",\"speechiness\",\"acousticness\",\"instrumentalness\",\"valence\",\"tempo\"]], testing[\"mood\"])"
   ]
  },
  {
   "cell_type": "code",
   "execution_count": 41,
   "metadata": {},
   "outputs": [],
   "source": [
    "##REDUCED TO 2 DIMENSIONS##\n",
    "spotDSMReduced = TSNE(n_components=2).fit_transform(spotDataSingleMood[[\"danceability\",\"energy\",\"key\",\"loudness\",\"mode\",\"speechiness\",\"acousticness\",\"instrumentalness\",\"valence\",\"tempo\"]])\n",
    "testingReduced = TSNE(n_components=2).fit_transform(testing[[\"danceability\",\"energy\",\"key\",\"loudness\",\"mode\",\"speechiness\",\"acousticness\",\"instrumentalness\",\"valence\",\"tempo\"]])\n"
   ]
  },
  {
   "cell_type": "code",
   "execution_count": 42,
   "metadata": {},
   "outputs": [],
   "source": [
    "XRed = spotDSMReduced\n",
    "Y = spotDataSingleMood[\"mood\"]\n",
    "\n",
    "#Decision Trees\n",
    "extraTreesModelR = ExtraTreesClassifier(n_estimators = 100)\n",
    "extraTreesModelR.fit(XRed, Y)\n",
    "accuracyArrTreeR = cross_val_score(extraTreesModelR, XRed, Y, cv = 5)\n",
    "outsideAccuracyTreeR = extraTreesModelR.score(testingReduced, testing[\"mood\"])\n",
    "\n",
    "##kneighbors\n",
    "knnModelR = KNeighborsClassifier()\n",
    "knnModelR.fit(XRed,Y)\n",
    "accuracyArrKnnR = cross_val_score(knnModelR, XRed, Y, cv = 5)\n",
    "outsideAccuracyKnnR = knnModelR.score(testingReduced, testing[\"mood\"])\n",
    "\n",
    "##Neural Network\n",
    "neuralNetworkModelR = MLPClassifier(max_iter = 300)\n",
    "neuralNetworkModelR.fit(XRed,Y)\n",
    "accuracyArrNNR = cross_val_score(neuralNetworkModelR, XRed, Y, cv =5)\n",
    "outsideAccuracyNNR = neuralNetworkModelR.score(testingReduced, testing[\"mood\"])\n"
   ]
  },
  {
   "cell_type": "code",
   "execution_count": 43,
   "metadata": {},
   "outputs": [],
   "source": [
    "results1 = pd.DataFrame({\"Label\": [\"4 Fold Cross Validation\", \"Outside Testing\", \"Reduced 4-Fold CV\", \"Reduced Outside Testing\"], \n",
    "                         \"Ensemble Decision Tree\": [np.average(accuracyArrTree)*100, (outsideAccuracyTree*100), np.average(accuracyArrTreeR)*100, outsideAccuracyTreeR*100],\n",
    "                         \"KNNeighbors\": [np.average(accuracyArrKnn)*100, outsideAccuracyKnn*100, np.average(accuracyArrKnnR)*100, outsideAccuracyKnnR*100,],\n",
    "                         \"LDA\": [np.average(accuracyLDA)*100, (outsideAccuracyLDA*100), \"NA\", \"NA\"],\n",
    "                         \"Neural Network\": [np.average(accuracyArrNN)*100, outsideAccuracyNN*100, np.average(accuracyArrNNR)*100, outsideAccuracyNNR*100]})\n",
    "\n"
   ]
  },
  {
   "cell_type": "markdown",
   "metadata": {},
   "source": [
    "## Results for No Playlist Titles, Single Mood Playlists"
   ]
  },
  {
   "cell_type": "code",
   "execution_count": 44,
   "metadata": {},
   "outputs": [
    {
     "data": {
      "text/html": [
       "<div>\n",
       "<style scoped>\n",
       "    .dataframe tbody tr th:only-of-type {\n",
       "        vertical-align: middle;\n",
       "    }\n",
       "\n",
       "    .dataframe tbody tr th {\n",
       "        vertical-align: top;\n",
       "    }\n",
       "\n",
       "    .dataframe thead th {\n",
       "        text-align: right;\n",
       "    }\n",
       "</style>\n",
       "<table border=\"1\" class=\"dataframe\">\n",
       "  <thead>\n",
       "    <tr style=\"text-align: right;\">\n",
       "      <th></th>\n",
       "      <th>Label</th>\n",
       "      <th>Ensemble Decision Tree</th>\n",
       "      <th>KNNeighbors</th>\n",
       "      <th>LDA</th>\n",
       "      <th>Neural Network</th>\n",
       "    </tr>\n",
       "  </thead>\n",
       "  <tbody>\n",
       "    <tr>\n",
       "      <th>0</th>\n",
       "      <td>4 Fold Cross Validation</td>\n",
       "      <td>57.402997</td>\n",
       "      <td>34.955659</td>\n",
       "      <td>54.6925</td>\n",
       "      <td>54.602081</td>\n",
       "    </tr>\n",
       "    <tr>\n",
       "      <th>1</th>\n",
       "      <td>Outside Testing</td>\n",
       "      <td>12.500000</td>\n",
       "      <td>12.500000</td>\n",
       "      <td>37.5</td>\n",
       "      <td>25.000000</td>\n",
       "    </tr>\n",
       "    <tr>\n",
       "      <th>2</th>\n",
       "      <td>Reduced 4-Fold CV</td>\n",
       "      <td>33.908393</td>\n",
       "      <td>33.559048</td>\n",
       "      <td>NA</td>\n",
       "      <td>32.598349</td>\n",
       "    </tr>\n",
       "    <tr>\n",
       "      <th>3</th>\n",
       "      <td>Reduced Outside Testing</td>\n",
       "      <td>37.500000</td>\n",
       "      <td>37.500000</td>\n",
       "      <td>NA</td>\n",
       "      <td>25.000000</td>\n",
       "    </tr>\n",
       "  </tbody>\n",
       "</table>\n",
       "</div>"
      ],
      "text/plain": [
       "                     Label  Ensemble Decision Tree  KNNeighbors      LDA  \\\n",
       "0  4 Fold Cross Validation               57.402997    34.955659  54.6925   \n",
       "1          Outside Testing               12.500000    12.500000     37.5   \n",
       "2        Reduced 4-Fold CV               33.908393    33.559048       NA   \n",
       "3  Reduced Outside Testing               37.500000    37.500000       NA   \n",
       "\n",
       "   Neural Network  \n",
       "0       54.602081  \n",
       "1       25.000000  \n",
       "2       32.598349  \n",
       "3       25.000000  "
      ]
     },
     "execution_count": 44,
     "metadata": {},
     "output_type": "execute_result"
    }
   ],
   "source": [
    "returner(results1)"
   ]
  },
  {
   "cell_type": "code",
   "execution_count": 26,
   "metadata": {},
   "outputs": [
    {
     "data": {
      "image/png": "[encoded data removed]",
      "text/plain": [
       "<Figure size 432x288 with 1 Axes>"
      ]
     },
     "metadata": {
      "needs_background": "light"
     },
     "output_type": "display_data"
    }
   ],
   "source": [
    "## plotting the accuracies\n",
    "\n",
    "##create labels for x axis\n",
    "labels3 = [\"4 Fold\\nCross Validation\", \"Outside\\nTesting\", \"Reduced\\n4 Fold\\nCV\", \"Reduced\\nOutside\\nTesting\"]\n",
    "\n",
    "##create an np array with values 0, 1, 2 to iterate through when setting bar positions\n",
    "x = np.arange(len(labels3))\n",
    "bar_width = .4 \n",
    "\n",
    "fig, ax = plt.subplots() ##creating subplots for each attribute to plot simulatneously\n",
    "EDTPlot = ax.bar(x*4, results1[\"Ensemble Decision Tree\"], width = bar_width, label = \"Ensemble Decision Tree\", color = \"#525174\") ##creates the fresh subplot, sets it to iterate through the values in x for its placement\n",
    "KNNPlot = ax.bar(x*4+bar_width, results1[\"KNNeighbors\"], width = bar_width, label = \"KNNeigbors\", color = \"#5DD39E\") ##same as above, but add the width of the fresh bar so they do not overlap\n",
    "NNPlot = ax.bar(x*4+bar_width*2, results1[\"Neural Network\"], width = bar_width, label = \"Neural Network\", color = \"#348AA7\") ##same as above but add the width of previous bars to avoid overlap\n",
    "\n",
    "ax.set_title(\"Accuracy Rates With No Playlist Titles and Single-Mood Playlists\")\n",
    "ax.set_xticks(4*x+.4) ##sets x tickmarks manually to center them for each cluster\n",
    "ax.set_xticklabels(labels3)\n",
    "ax.legend()\n",
    "\n",
    "plt.show()"
   ]
  },
  {
   "cell_type": "markdown",
   "metadata": {},
   "source": [
    "# Playlist Titles, Single Mood Playlists"
   ]
  },
  {
   "cell_type": "code",
   "execution_count": 45,
   "metadata": {},
   "outputs": [],
   "source": [
    "##NO DIMENSIONALITY REDUCTION##\n",
    "##Decision Trees\n",
    "X = spotDataSingleMood[[\"playlist\", \"danceability\",\"energy\",\"key\",\"loudness\",\"mode\",\"speechiness\",\"acousticness\",\"instrumentalness\",\"valence\",\"tempo\"]]\n",
    "Y = spotDataSingleMood[\"mood\"]\n",
    "\n",
    "extraTreesModel = ExtraTreesClassifier(n_estimators = 100)\n",
    "extraTreesModel.fit(X, Y)\n",
    "accuracyArrTree = cross_val_score(extraTreesModel, X, Y, cv = 5)\n",
    "outsideAccuracyTree = extraTreesModel.score(testing[[\"playlist\", \"danceability\",\"energy\",\"key\",\"loudness\",\"mode\",\"speechiness\",\"acousticness\",\"instrumentalness\",\"valence\",\"tempo\"]], testing[\"mood\"])\n",
    "\n",
    "##kneighbors\n",
    "knnModel = KNeighborsClassifier()\n",
    "knnModel.fit(X,Y)\n",
    "accuracyArrKnn = cross_val_score(knnModel, X, Y, cv = 5)\n",
    "outsideAccuracyKnn = knnModel.score(testing[[\"playlist\", \"danceability\",\"energy\",\"key\",\"loudness\",\"mode\",\"speechiness\",\"acousticness\",\"instrumentalness\",\"valence\",\"tempo\"]], testing[\"mood\"])\n",
    "\n",
    "##Neural Network\n",
    "neuralNetworkModel = MLPClassifier(max_iter = 500)\n",
    "neuralNetworkModel.fit(X,Y)\n",
    "accuracyArrNN = cross_val_score(neuralNetworkModel, X, Y, cv =5)\n",
    "outsideAccuracyNN = neuralNetworkModel.score(testing[[\"playlist\", \"danceability\",\"energy\",\"key\",\"loudness\",\"mode\",\"speechiness\",\"acousticness\",\"instrumentalness\",\"valence\",\"tempo\"]], testing[\"mood\"])\n",
    "\n",
    "##LDA\n",
    "LDAModel = LDA()\n",
    "LDAModel.fit(X,Y)\n",
    "accuracyLDA = cross_val_score(LDAModel, X, Y, cv = 5)\n",
    "outsideAccuracyLDA = LDAModel.score(testing[[\"playlist\",\"danceability\",\"energy\",\"key\",\"loudness\",\"mode\",\"speechiness\",\"acousticness\",\"instrumentalness\",\"valence\",\"tempo\"]], testing[\"mood\"])"
   ]
  },
  {
   "cell_type": "code",
   "execution_count": 46,
   "metadata": {},
   "outputs": [],
   "source": [
    "##REDUCED TO 2 DIMENSIONS##\n",
    "spotDSMReduced = TSNE(n_components=2).fit_transform(spotDataSingleMood[[\"playlist\", \"danceability\",\"energy\",\"key\",\"loudness\",\"mode\",\"speechiness\",\"acousticness\",\"instrumentalness\",\"valence\",\"tempo\"]])\n",
    "testingReduced = TSNE(n_components=2).fit_transform(testing[[\"playlist\", \"danceability\",\"energy\",\"key\",\"loudness\",\"mode\",\"speechiness\",\"acousticness\",\"instrumentalness\",\"valence\",\"tempo\"]])\n"
   ]
  },
  {
   "cell_type": "code",
   "execution_count": 47,
   "metadata": {},
   "outputs": [],
   "source": [
    "XRed = spotDSMReduced\n",
    "Y = spotDataSingleMood[\"mood\"]\n",
    "\n",
    "#Decision Trees\n",
    "extraTreesModelR = ExtraTreesClassifier(n_estimators = 100)\n",
    "extraTreesModelR.fit(XRed, Y)\n",
    "accuracyArrTreeR = cross_val_score(extraTreesModelR, XRed, Y, cv = 5)\n",
    "outsideAccuracyTreeR = extraTreesModelR.score(testingReduced, testing[\"mood\"])\n",
    "\n",
    "##kneighbors\n",
    "knnModelR = KNeighborsClassifier()\n",
    "knnModelR.fit(XRed,Y)\n",
    "accuracyArrKnnR = cross_val_score(knnModelR, XRed, Y, cv = 5)\n",
    "outsideAccuracyKnnR = knnModelR.score(testingReduced, testing[\"mood\"])\n",
    "\n",
    "##Neural Network\n",
    "neuralNetworkModelR = MLPClassifier(max_iter = 300)\n",
    "neuralNetworkModelR.fit(XRed,Y)\n",
    "accuracyArrNNR = cross_val_score(neuralNetworkModelR, XRed, Y, cv =5)\n",
    "outsideAccuracyNNR = neuralNetworkModelR.score(testingReduced, testing[\"mood\"])\n"
   ]
  },
  {
   "cell_type": "code",
   "execution_count": 48,
   "metadata": {},
   "outputs": [],
   "source": [
    "results2 = pd.DataFrame({\"Label\": [\"4 Fold Cross Validation\", \"Outside Testing\", \"Reduced 4-Fold CV\", \"Reduced Outside Testing\"], \n",
    "                         \"Ensemble Decision Tree\": [np.average(accuracyArrTree)*100, (outsideAccuracyTree*100), np.average(accuracyArrTreeR)*100, outsideAccuracyTreeR*100],\n",
    "                         \"KNNeighbors\": [np.average(accuracyArrKnn)*100, outsideAccuracyKnn*100, np.average(accuracyArrKnnR)*100, outsideAccuracyKnnR*100],\n",
    "                         \"LDA\": [np.average(accuracyLDA)*100, (outsideAccuracyLDA*100), \"NA\", \"NA\"],\n",
    "                         \"Neural Network\": [np.average(accuracyArrNN)*100, outsideAccuracyNN*100, np.average(accuracyArrNNR)*100, outsideAccuracyNNR*100]})\n",
    "\n"
   ]
  },
  {
   "cell_type": "markdown",
   "metadata": {},
   "source": [
    "## Results for Playlist Titles Single Mood Playlists"
   ]
  },
  {
   "cell_type": "code",
   "execution_count": 49,
   "metadata": {},
   "outputs": [
    {
     "data": {
      "text/html": [
       "<div>\n",
       "<style scoped>\n",
       "    .dataframe tbody tr th:only-of-type {\n",
       "        vertical-align: middle;\n",
       "    }\n",
       "\n",
       "    .dataframe tbody tr th {\n",
       "        vertical-align: top;\n",
       "    }\n",
       "\n",
       "    .dataframe thead th {\n",
       "        text-align: right;\n",
       "    }\n",
       "</style>\n",
       "<table border=\"1\" class=\"dataframe\">\n",
       "  <thead>\n",
       "    <tr style=\"text-align: right;\">\n",
       "      <th></th>\n",
       "      <th>Label</th>\n",
       "      <th>Ensemble Decision Tree</th>\n",
       "      <th>KNNeighbors</th>\n",
       "      <th>LDA</th>\n",
       "      <th>Neural Network</th>\n",
       "    </tr>\n",
       "  </thead>\n",
       "  <tbody>\n",
       "    <tr>\n",
       "      <th>0</th>\n",
       "      <td>4 Fold Cross Validation</td>\n",
       "      <td>93.850297</td>\n",
       "      <td>45.299040</td>\n",
       "      <td>55.2181</td>\n",
       "      <td>60.384741</td>\n",
       "    </tr>\n",
       "    <tr>\n",
       "      <th>1</th>\n",
       "      <td>Outside Testing</td>\n",
       "      <td>25.000000</td>\n",
       "      <td>37.500000</td>\n",
       "      <td>37.5</td>\n",
       "      <td>25.000000</td>\n",
       "    </tr>\n",
       "    <tr>\n",
       "      <th>2</th>\n",
       "      <td>Reduced 4-Fold CV</td>\n",
       "      <td>47.480907</td>\n",
       "      <td>41.962565</td>\n",
       "      <td>NA</td>\n",
       "      <td>37.150607</td>\n",
       "    </tr>\n",
       "    <tr>\n",
       "      <th>3</th>\n",
       "      <td>Reduced Outside Testing</td>\n",
       "      <td>25.000000</td>\n",
       "      <td>50.000000</td>\n",
       "      <td>NA</td>\n",
       "      <td>25.000000</td>\n",
       "    </tr>\n",
       "  </tbody>\n",
       "</table>\n",
       "</div>"
      ],
      "text/plain": [
       "                     Label  Ensemble Decision Tree  KNNeighbors      LDA  \\\n",
       "0  4 Fold Cross Validation               93.850297    45.299040  55.2181   \n",
       "1          Outside Testing               25.000000    37.500000     37.5   \n",
       "2        Reduced 4-Fold CV               47.480907    41.962565       NA   \n",
       "3  Reduced Outside Testing               25.000000    50.000000       NA   \n",
       "\n",
       "   Neural Network  \n",
       "0       60.384741  \n",
       "1       25.000000  \n",
       "2       37.150607  \n",
       "3       25.000000  "
      ]
     },
     "execution_count": 49,
     "metadata": {},
     "output_type": "execute_result"
    }
   ],
   "source": [
    "returner(results2)"
   ]
  },
  {
   "cell_type": "code",
   "execution_count": 27,
   "metadata": {},
   "outputs": [
    {
     "data": {
      "image/png": "[encoded data removed]",
      "text/plain": [
       "<Figure size 432x288 with 1 Axes>"
      ]
     },
     "metadata": {
      "needs_background": "light"
     },
     "output_type": "display_data"
    }
   ],
   "source": [
    "## plotting the accuracies\n",
    "\n",
    "##create labels for x axis\n",
    "labels3 = [\"4 Fold\\nCross Validation\", \"Outside\\nTesting\", \"Reduced\\n4 Fold\\nCV\", \"Reduced\\nOutside\\nTesting\"]\n",
    "\n",
    "##create an np array with values 0, 1, 2 to iterate through when setting bar positions\n",
    "x = np.arange(len(labels3))\n",
    "bar_width = .4 \n",
    "\n",
    "fig, ax = plt.subplots() ##creating subplots for each attribute to plot simulatneously\n",
    "EDTPlot = ax.bar(x*4, results1[\"Ensemble Decision Tree\"], width = bar_width, label = \"Ensemble Decision Tree\", color = \"#525174\") ##creates the fresh subplot, sets it to iterate through the values in x for its placement\n",
    "KNNPlot = ax.bar(x*4+bar_width, results1[\"KNNeighbors\"], width = bar_width, label = \"KNNeigbors\", color = \"#5DD39E\") ##same as above, but add the width of the fresh bar so they do not overlap\n",
    "NNPlot = ax.bar(x*4+bar_width*2, results1[\"Neural Network\"], width = bar_width, label = \"Neural Network\", color = \"#348AA7\") ##same as above but add the width of previous bars to avoid overlap\n",
    "\n",
    "ax.set_title(\"Accuracy Rates With No Playlist Titles and Single-Mood Playlists\")\n",
    "ax.set_xticks(4*x+.4) ##sets x tickmarks manually to center them for each cluster\n",
    "ax.set_xticklabels(labels3)\n",
    "ax.legend()\n",
    "\n",
    "plt.show()"
   ]
  },
  {
   "cell_type": "markdown",
   "metadata": {},
   "source": [
    "# Playlist Titles and MultiMood Playlists"
   ]
  },
  {
   "cell_type": "code",
   "execution_count": 16,
   "metadata": {},
   "outputs": [],
   "source": [
    "##NO DIMENSIONALITY REDUCTION##\n",
    "##Decision Trees\n",
    "X = spotDataMultiMood[[\"playlist\", \"danceability\",\"energy\",\"key\",\"loudness\",\"mode\",\"speechiness\",\"acousticness\",\"instrumentalness\",\"valence\",\"tempo\"]]\n",
    "Y = spotDataMultiMood[\"mood\"]\n",
    "\n",
    "extraTreesModel = ExtraTreesClassifier(n_estimators = 100)\n",
    "extraTreesModel.fit(X, Y)\n",
    "accuracyArrTree = cross_val_score(extraTreesModel, X, Y, cv = 5)\n",
    "outsideAccuracyTree = extraTreesModel.score(testing[[\"playlist\", \"danceability\",\"energy\",\"key\",\"loudness\",\"mode\",\"speechiness\",\"acousticness\",\"instrumentalness\",\"valence\",\"tempo\"]], testing[\"mood\"])\n",
    "\n",
    "##kneighbors\n",
    "knnModel = KNeighborsClassifier()\n",
    "knnModel.fit(X,Y)\n",
    "accuracyArrKnn = cross_val_score(knnModel, X, Y, cv = 5)\n",
    "outsideAccuracyKnn = knnModel.score(testing[[\"playlist\", \"danceability\",\"energy\",\"key\",\"loudness\",\"mode\",\"speechiness\",\"acousticness\",\"instrumentalness\",\"valence\",\"tempo\"]], testing[\"mood\"])\n",
    "\n",
    "##Neural Network\n",
    "neuralNetworkModel = MLPClassifier(max_iter = 500)\n",
    "neuralNetworkModel.fit(X,Y)\n",
    "accuracyArrNN = cross_val_score(neuralNetworkModel, X, Y, cv =5)\n",
    "outsideAccuracyNN = neuralNetworkModel.score(testing[[\"playlist\", \"danceability\",\"energy\",\"key\",\"loudness\",\"mode\",\"speechiness\",\"acousticness\",\"instrumentalness\",\"valence\",\"tempo\"]], testing[\"mood\"])\n",
    "\n",
    "##LDA\n",
    "LDAModel = LDA()\n",
    "LDAModel.fit(X,Y)\n",
    "accuracyLDA = cross_val_score(LDAModel, X, Y, cv = 5)\n",
    "outsideAccuracyLDA = LDAModel.score(testing[[\"playlist\",\"danceability\",\"energy\",\"key\",\"loudness\",\"mode\",\"speechiness\",\"acousticness\",\"instrumentalness\",\"valence\",\"tempo\"]], testing[\"mood\"])"
   ]
  },
  {
   "cell_type": "code",
   "execution_count": 17,
   "metadata": {},
   "outputs": [],
   "source": [
    "##REDUCED TO 2 DIMENSIONS##\n",
    "spotDSMReduced = TSNE(n_components=2).fit_transform(spotDataMultiMood[[\"playlist\", \"danceability\",\"energy\",\"key\",\"loudness\",\"mode\",\"speechiness\",\"acousticness\",\"instrumentalness\",\"valence\",\"tempo\"]])\n",
    "testingReduced = TSNE(n_components=2).fit_transform(testing[[\"playlist\", \"danceability\",\"energy\",\"key\",\"loudness\",\"mode\",\"speechiness\",\"acousticness\",\"instrumentalness\",\"valence\",\"tempo\"]])\n"
   ]
  },
  {
   "cell_type": "code",
   "execution_count": 18,
   "metadata": {},
   "outputs": [],
   "source": [
    "XRed = spotDSMReduced\n",
    "Y = spotDataMultiMood[\"mood\"]\n",
    "\n",
    "#Decision Trees\n",
    "extraTreesModelR = ExtraTreesClassifier(n_estimators = 100)\n",
    "extraTreesModelR.fit(XRed, Y)\n",
    "accuracyArrTreeR = cross_val_score(extraTreesModelR, XRed, Y, cv = 5)\n",
    "outsideAccuracyTreeR = extraTreesModelR.score(testingReduced, testing[\"mood\"])\n",
    "\n",
    "##kneighbors\n",
    "knnModelR = KNeighborsClassifier()\n",
    "knnModelR.fit(XRed,Y)\n",
    "accuracyArrKnnR = cross_val_score(knnModelR, XRed, Y, cv = 5)\n",
    "outsideAccuracyKnnR = knnModelR.score(testingReduced, testing[\"mood\"])\n",
    "\n",
    "##Neural Network\n",
    "neuralNetworkModelR = MLPClassifier(max_iter = 300)\n",
    "neuralNetworkModelR.fit(XRed,Y)\n",
    "accuracyArrNNR = cross_val_score(neuralNetworkModelR, XRed, Y, cv =5)\n",
    "outsideAccuracyNNR = neuralNetworkModelR.score(testingReduced, testing[\"mood\"])\n"
   ]
  },
  {
   "cell_type": "code",
   "execution_count": 19,
   "metadata": {},
   "outputs": [],
   "source": [
    "results3 = pd.DataFrame({\"Label\": [\"4 Fold Cross Validation\", \"Outside Testing\", \"Reduced 4-Fold CV\", \"Reduced Outside Testing\"], \n",
    "                         \"Ensemble Decision Tree\": [np.average(accuracyArrTree)*100, (outsideAccuracyTree*100), np.average(accuracyArrTreeR)*100, outsideAccuracyTreeR*100],\n",
    "                         \"KNNeighbors\": [np.average(accuracyArrKnn)*100, outsideAccuracyKnn*100, np.average(accuracyArrKnnR)*100, outsideAccuracyKnnR*100],\n",
    "                         \"LDA\": [np.average(accuracyLDA)*100, (outsideAccuracyLDA*100), \"NA\", \"NA\"],\n",
    "                         \"Neural Network\": [np.average(accuracyArrNN)*100, outsideAccuracyNN*100, np.average(accuracyArrNNR)*100, outsideAccuracyNNR*100]})\n",
    "\n"
   ]
  },
  {
   "cell_type": "markdown",
   "metadata": {},
   "source": [
    "## Results for Playlist Titles with Multi-Mood Playlists"
   ]
  },
  {
   "cell_type": "code",
   "execution_count": 20,
   "metadata": {
    "scrolled": true
   },
   "outputs": [
    {
     "data": {
      "text/html": [
       "<div>\n",
       "<style scoped>\n",
       "    .dataframe tbody tr th:only-of-type {\n",
       "        vertical-align: middle;\n",
       "    }\n",
       "\n",
       "    .dataframe tbody tr th {\n",
       "        vertical-align: top;\n",
       "    }\n",
       "\n",
       "    .dataframe thead th {\n",
       "        text-align: right;\n",
       "    }\n",
       "</style>\n",
       "<table border=\"1\" class=\"dataframe\">\n",
       "  <thead>\n",
       "    <tr style=\"text-align: right;\">\n",
       "      <th></th>\n",
       "      <th>Label</th>\n",
       "      <th>Ensemble Decision Tree</th>\n",
       "      <th>KNNeighbors</th>\n",
       "      <th>LDA</th>\n",
       "      <th>Neural Network</th>\n",
       "    </tr>\n",
       "  </thead>\n",
       "  <tbody>\n",
       "    <tr>\n",
       "      <th>0</th>\n",
       "      <td>4 Fold Cross Validation</td>\n",
       "      <td>80.043931</td>\n",
       "      <td>36.647705</td>\n",
       "      <td>44.3416</td>\n",
       "      <td>46.044495</td>\n",
       "    </tr>\n",
       "    <tr>\n",
       "      <th>1</th>\n",
       "      <td>Outside Testing</td>\n",
       "      <td>37.500000</td>\n",
       "      <td>0.000000</td>\n",
       "      <td>25</td>\n",
       "      <td>37.500000</td>\n",
       "    </tr>\n",
       "    <tr>\n",
       "      <th>2</th>\n",
       "      <td>Reduced 4-Fold CV</td>\n",
       "      <td>35.886229</td>\n",
       "      <td>32.665446</td>\n",
       "      <td>NA</td>\n",
       "      <td>24.849338</td>\n",
       "    </tr>\n",
       "    <tr>\n",
       "      <th>3</th>\n",
       "      <td>Reduced Outside Testing</td>\n",
       "      <td>12.500000</td>\n",
       "      <td>37.500000</td>\n",
       "      <td>NA</td>\n",
       "      <td>0.000000</td>\n",
       "    </tr>\n",
       "  </tbody>\n",
       "</table>\n",
       "</div>"
      ],
      "text/plain": [
       "                     Label  Ensemble Decision Tree  KNNeighbors      LDA  \\\n",
       "0  4 Fold Cross Validation               80.043931    36.647705  44.3416   \n",
       "1          Outside Testing               37.500000     0.000000       25   \n",
       "2        Reduced 4-Fold CV               35.886229    32.665446       NA   \n",
       "3  Reduced Outside Testing               12.500000    37.500000       NA   \n",
       "\n",
       "   Neural Network  \n",
       "0       46.044495  \n",
       "1       37.500000  \n",
       "2       24.849338  \n",
       "3        0.000000  "
      ]
     },
     "execution_count": 20,
     "metadata": {},
     "output_type": "execute_result"
    }
   ],
   "source": [
    "returner(results3)"
   ]
  },
  {
   "cell_type": "code",
   "execution_count": 28,
   "metadata": {},
   "outputs": [
    {
     "data": {
      "image/png": "[encoded data removed]",
      "text/plain": [
       "<Figure size 432x288 with 1 Axes>"
      ]
     },
     "metadata": {
      "needs_background": "light"
     },
     "output_type": "display_data"
    }
   ],
   "source": [
    "## plotting the accuracies\n",
    "\n",
    "##create labels for x axis\n",
    "labels3 = [\"4 Fold\\nCross Validation\", \"Outside\\nTesting\", \"Reduced\\n4 Fold\\nCV\", \"Reduced\\nOutside\\nTesting\"]\n",
    "\n",
    "##create an np array with values 0, 1, 2 to iterate through when setting bar positions\n",
    "x = np.arange(len(labels3))\n",
    "bar_width = .4 \n",
    "\n",
    "fig, ax = plt.subplots() ##creating subplots for each attribute to plot simulatneously\n",
    "EDTPlot = ax.bar(x*4, results1[\"Ensemble Decision Tree\"], width = bar_width, label = \"Ensemble Decision Tree\", color = \"#525174\") ##creates the fresh subplot, sets it to iterate through the values in x for its placement\n",
    "KNNPlot = ax.bar(x*4+bar_width, results1[\"KNNeighbors\"], width = bar_width, label = \"KNNeigbors\", color = \"#5DD39E\") ##same as above, but add the width of the fresh bar so they do not overlap\n",
    "NNPlot = ax.bar(x*4+bar_width*2, results1[\"Neural Network\"], width = bar_width, label = \"Neural Network\", color = \"#348AA7\") ##same as above but add the width of previous bars to avoid overlap\n",
    "\n",
    "ax.set_title(\"Accuracy Rates With No Playlist Titles and Single-Mood Playlists\")\n",
    "ax.set_xticks(4*x+.4) ##sets x tickmarks manually to center them for each cluster\n",
    "ax.set_xticklabels(labels3)\n",
    "ax.legend()\n",
    "\n",
    "plt.show()"
   ]
  },
  {
   "cell_type": "code",
   "execution_count": 33,
   "metadata": {},
   "outputs": [
    {
     "name": "stdout",
     "output_type": "stream",
     "text": [
      "Average EDT Accuracy is: 36.10582289722922\n",
      "Average KNN Accuracy is: 24.429779607435762\n",
      "Average KNN Accuracy is: 41.37098506563043\n"
     ]
    }
   ],
   "source": [
    "##Finding Average Accuracies\n",
    "EDTAccuracies = []\n",
    "for i in results1[\"Ensemble Decision Tree\"]:\n",
    "    EDTAccuracies.append(i)\n",
    "for i in results2[\"Ensemble Decision Tree\"]:\n",
    "    EDTAccuracies.append(i)\n",
    "for i in results3[\"Ensemble Decision Tree\"]:\n",
    "    EDTAccuracies.append(i)\n",
    "EDTAccuracies = np.array(EDTAccuracies)\n",
    "print(\"Average EDT Accuracy is: \"+str(np.average(EDTAccuracies)))\n",
    "\n",
    "KNNeighborsAccuracies = []\n",
    "for i in results1[\"KNNeighbors\"]:\n",
    "    KNNeighborsAccuracies.append(i)\n",
    "for i in results2[\"KNNeighbors\"]:\n",
    "    KNNeighborsAccuracies.append(i)\n",
    "for i in results3[\"KNNeighbors\"]:\n",
    "    KNNeighborsAccuracies.append(i)\n",
    "KNNeighborsAccuracies = np.array(KNNeighborsAccuracies)\n",
    "print(\"Average KNN Accuracy is: \"+str(np.average(KNNeighborsAccuracies)))\n",
    "\n",
    "NNAccuracies = []\n",
    "for i in results1[\"Neural Network\"]:\n",
    "    NNAccuracies.append(i)\n",
    "for i in results2[\"Neural Network\"]:\n",
    "    NNAccuracies.append(i)\n",
    "for i in results3[\"Neural Network\"]:\n",
    "    NNAccuracies.append(i)\n",
    "NNAccuracies = np.array(NNAccuracies)\n",
    "print(\"Average KNN Accuracy is: \"+str(np.average(NNAccuracies)))\n",
    "\n"
   ]
  },
  {
   "cell_type": "code",
   "execution_count": 36,
   "metadata": {},
   "outputs": [
    {
     "name": "stdout",
     "output_type": "stream",
     "text": [
      "Average Outside Accuracy of EDT: 31.25\n",
      "Average Outside Accuracy of KNN: 29.166666666666668\n",
      "Average Outside Accuracy of KNN: 37.5\n"
     ]
    }
   ],
   "source": [
    "##print accuracies for outside testing\n",
    "EDTOA = []\n",
    "EDTOA.append(results1[\"Ensemble Decision Tree\"][1])\n",
    "EDTOA.append(results1[\"Ensemble Decision Tree\"][3])\n",
    "EDTOA.append(results2[\"Ensemble Decision Tree\"][1])\n",
    "EDTOA.append(results2[\"Ensemble Decision Tree\"][3])\n",
    "EDTOA.append(results3[\"Ensemble Decision Tree\"][1])\n",
    "EDTOA.append(results3[\"Ensemble Decision Tree\"][3])\n",
    "EDTOA = np.array(EDTOA)\n",
    "print(\"Average Outside Accuracy of EDT: \"+str(np.average(EDTOA)))\n",
    "\n",
    "KNNOA = []\n",
    "KNNOA.append(results1[\"KNNeighbors\"][1])\n",
    "KNNOA.append(results1[\"KNNeighbors\"][3])\n",
    "KNNOA.append(results2[\"KNNeighbors\"][1])\n",
    "KNNOA.append(results2[\"KNNeighbors\"][3])\n",
    "KNNOA.append(results3[\"KNNeighbors\"][1])\n",
    "KNNOA.append(results3[\"KNNeighbors\"][3])\n",
    "KNNOA = np.array(KNNOA)\n",
    "print(\"Average Outside Accuracy of KNN: \"+str(np.average(KNNOA)))\n",
    "\n",
    "NNOA = []\n",
    "NNOA.append(results1[\"Neural Network\"][1])\n",
    "NNOA.append(results1[\"Neural Network\"][3])\n",
    "NNOA.append(results2[\"Neural Network\"][1])\n",
    "NNOA.append(results2[\"Neural Network\"][3])\n",
    "NNOA.append(results3[\"Neural Network\"][1])\n",
    "NNOA.append(results3[\"Neural Network\"][3])\n",
    "NNOA = np.array(NNOA)\n",
    "print(\"Average Outside Accuracy of KNN: \"+str(np.average(NNOA)))"
   ]
  },
  {
   "cell_type": "code",
   "execution_count": null,
   "metadata": {},
   "outputs": [],
   "source": []
  }
 ],
 "metadata": {
  "kernelspec": {
   "display_name": "Python 3",
   "language": "python",
   "name": "python3"
  },
  "language_info": {
   "codemirror_mode": {
    "name": "ipython",
    "version": 3
   },
   "file_extension": ".py",
   "mimetype": "text/x-python",
   "name": "python",
   "nbconvert_exporter": "python",
   "pygments_lexer": "ipython3",
   "version": "3.7.3"
  }
 },
 "nbformat": 4,
 "nbformat_minor": 2
}
